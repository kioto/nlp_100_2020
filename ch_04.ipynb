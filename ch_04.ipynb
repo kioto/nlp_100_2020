{
 "cells": [
  {
   "cell_type": "markdown",
   "metadata": {},
   "source": [
    "# 第4章: 形態素解析\n",
    "\n",
    "夏目漱石の小説『吾輩は猫である』の文章（neko.txt）をMeCabを使って形態素解析し，その結果をneko.txt.mecabというファイルに保存せよ．このファイルを用いて，以下の問に対応するプログラムを実装せよ．\n",
    "\n",
    "なお，問題37, 38, 39はmatplotlibもしくはGnuplotを用いるとよい．\n",
    "\n",
    "memo:<br>\n",
    "MeCabは別途インストールしておくこと。\n",
    "\n",
    "答え合わせはこのページを参考。<br>\n",
    "[【言語処理100本ノック 2020】第4章: 形態素解析](https://qiita.com/yamaru/items/e06014b146a18e97ca59#comment-dbfb049b2ef950744cf9)"
   ]
  },
  {
   "cell_type": "code",
   "execution_count": null,
   "metadata": {},
   "outputs": [],
   "source": [
    "! wget https://nlp100.github.io/data/neko.txt\n",
    "! mecab neko.txt > neko.txt.mecab"
   ]
  },
  {
   "cell_type": "code",
   "execution_count": 1,
   "metadata": {},
   "outputs": [],
   "source": [
    "MECAB_DIC = '/usr/local/lib/mecab/dic/mecab-ipadic-neologd'\n",
    "INPUT_FILENAME = 'neko.txt'"
   ]
  },
  {
   "cell_type": "markdown",
   "metadata": {},
   "source": [
    "## 30. 形態素解析結果の読み込み\n",
    "\n",
    "形態素解析結果（neko.txt.mecab）を読み込むプログラムを実装せよ．ただし，各形態素は表層形（surface），基本形（base），品詞（pos），品詞細分類1（pos1）をキーとするマッピング型に格納し，1文を形態素（マッピング型）のリストとして表現せよ．第4章の残りの問題では，ここで作ったプログラムを活用せよ．\n",
    "\n",
    "memo:<br>\n",
    "dictなどマッピング型にすると\n",
    "\n",
    "```python\n",
    "word = morph.get('surface')\n",
    "if morph.get('pos') == u'動詞':\n",
    "    verb_word = word\n",
    "...\n",
    "```\n",
    "\n",
    "というように、要素の値を参照する場合に格好が悪い。これを\n",
    "\n",
    "```python\n",
    "word = morph.surface\n",
    "if morph.is_verb():\n",
    "    verb_word = word\n",
    "...\n",
    "```\n",
    "\n",
    "のように、クラスの属性やメソッドで参照するようにしたい。\n",
    "\n",
    "以降の例では、後者のモデルで記載する。"
   ]
  },
  {
   "cell_type": "code",
   "execution_count": 2,
   "metadata": {},
   "outputs": [
    {
     "name": "stdout",
     "output_type": "stream",
     "text": [
      "total: 9210\n",
      "一\n",
      "Morph(surface='一', base='一', pos='名詞', pos1='数')\n",
      "\n",
      "　吾輩は猫である。\n",
      "Morph(surface='\\u3000', base='\\u3000', pos='記号', pos1='空白')\n",
      "Morph(surface='吾輩', base='吾輩', pos='名詞', pos1='代名詞')\n",
      "Morph(surface='は', base='は', pos='助詞', pos1='係助詞')\n",
      "Morph(surface='猫', base='猫', pos='名詞', pos1='一般')\n",
      "Morph(surface='で', base='だ', pos='助動詞', pos1='*')\n",
      "Morph(surface='ある', base='ある', pos='助動詞', pos1='*')\n",
      "Morph(surface='。', base='。', pos='記号', pos1='句点')\n",
      "\n",
      "名前はまだ無い。\n",
      "Morph(surface='名前', base='名前', pos='名詞', pos1='一般')\n",
      "Morph(surface='は', base='は', pos='助詞', pos1='係助詞')\n",
      "Morph(surface='まだ', base='まだ', pos='副詞', pos1='助詞類接続')\n",
      "Morph(surface='無い', base='無い', pos='形容詞', pos1='自立')\n",
      "Morph(surface='。', base='。', pos='記号', pos1='句点')\n",
      "\n"
     ]
    }
   ],
   "source": [
    "import dataclasses\n",
    "from typing import List\n",
    "import MeCab\n",
    "\n",
    "\n",
    "# 形態素クラス\n",
    "# 後でsort対象として使うので、order=Trueにする\n",
    "@dataclasses.dataclass(frozen=True, order=True)\n",
    "class Morph:\n",
    "    surface: str # 表層形\n",
    "    base: str    # 基本形\n",
    "    pos: str     # 品詞\n",
    "    pos1: str    # 品詞際分類1\n",
    "        \n",
    "    def is_symbol(self):\n",
    "        \"\"\"記号判定\n",
    "        \"\"\"\n",
    "        return self.pos == u'記号'\n",
    "\n",
    "    def is_verb(self):\n",
    "        \"\"\"動詞判定\n",
    "        \"\"\"\n",
    "        return self.pos == u'動詞'\n",
    "\n",
    "    def is_noun(self):\n",
    "        \"\"\"名詞判定\n",
    "        \"\"\"\n",
    "        return self.pos == u'名詞'\n",
    "\n",
    "    def is_particle(self):\n",
    "        \"\"\"助詞判定\n",
    "        \"\"\"\n",
    "        return self.pos == u'助詞'\n",
    "\n",
    "\n",
    "# 文章情報クラス\n",
    "@dataclasses.dataclass\n",
    "class SentenceInfo:\n",
    "    # 文章テキスト\n",
    "    sentence: str\n",
    "    # 分割された形態素リスト\n",
    "    morphs: List[Morph] = dataclasses.field(default_factory=list)\n",
    "        \n",
    "    def get_surfaces(self):\n",
    "        \"\"\"表層形のリストを返す\n",
    "        \"\"\"\n",
    "        return [m.surface for m in self.morphs]\n",
    "\n",
    "    def get_bases(self):\n",
    "        \"\"\"基本形のリストを返す\n",
    "        \"\"\"\n",
    "        return [m.base for m in self.morphs]\n",
    "\n",
    "\n",
    "def analyze_text(filename):\n",
    "    \"\"\"テキストファイルを解析する\n",
    "    テキストを文章に分解し、文章情報リストを返す\n",
    "    \"\"\"\n",
    "    tagger = MeCab.Tagger(MECAB_DIC)\n",
    "\n",
    "    with open(filename, 'r') as f:\n",
    "        sentinfos = []\n",
    "        for line in f.readlines():\n",
    "            line = line.rstrip()\n",
    "            # 空行はスキップ\n",
    "            if not line: continue\n",
    "\n",
    "            # 文章情報を作成\n",
    "            sinfo = SentenceInfo(line)\n",
    "            node = tagger.parseToNode(line)\n",
    "            while node:\n",
    "                if node.surface:\n",
    "                    # 形態素を追加\n",
    "                    detail = node.feature.split(',')\n",
    "                    morph = Morph(node.surface, detail[6], detail[0], detail[1])\n",
    "                    sinfo.morphs.append(morph)\n",
    "                node = node.next\n",
    "            sentinfos.append(sinfo)\n",
    "\n",
    "        return sentinfos\n",
    "\n",
    "\n",
    "# 最初の３つの文章解析結果を表示\n",
    "sentinfos = analyze_text(INPUT_FILENAME)\n",
    "print('total:', len(sentinfos)) # オリジナルテキストと同じ9964\n",
    "for sinfo in sentinfos[:3]:\n",
    "    print(sinfo.sentence)\n",
    "    for morph in sinfo.morphs:\n",
    "        print(morph)\n",
    "    print()"
   ]
  },
  {
   "cell_type": "markdown",
   "metadata": {},
   "source": [
    "## 31. 動詞\n",
    "\n",
    "動詞の表層形をすべて抽出せよ．\n",
    "\n",
    "memo:<br>\n",
    "表層形はsurfaceのこと。"
   ]
  },
  {
   "cell_type": "code",
   "execution_count": 3,
   "metadata": {},
   "outputs": [
    {
     "name": "stdout",
     "output_type": "stream",
     "text": [
      "total: 3893\n",
      "1: 仕り\n",
      "2: 引き摺り込ま\n",
      "3: 書き流し\n",
      "4: 巡り\n",
      "5: 動ずる\n"
     ]
    }
   ],
   "source": [
    "def get_verb_surfaces(sentinfos):\n",
    "    \"\"\"文章情報リストから、動詞の表層形(surface)のリストを返す\n",
    "    \"\"\"\n",
    "    verb_srfs = set()\n",
    "    for sinfo in sentinfos:\n",
    "        for m in sinfo.morphs:\n",
    "            if m.is_verb(): # 動詞なら\n",
    "                verb_srfs.add(m.surface)\n",
    "\n",
    "    return list(verb_srfs)\n",
    "\n",
    "\n",
    "# 動詞の表層形の合計と、先頭の５つを表示する\n",
    "sentinfos = analyze_text(INPUT_FILENAME)\n",
    "verbs = get_verb_surfaces(sentinfos)\n",
    "print('total:', len(verbs))\n",
    "for idx, v in enumerate(verbs[:5], start=1):\n",
    "    print(f'{idx}:', v)"
   ]
  },
  {
   "cell_type": "markdown",
   "metadata": {},
   "source": [
    "## 32. 動詞の原形\n",
    "\n",
    "動詞の原形をすべて抽出せよ．"
   ]
  },
  {
   "cell_type": "code",
   "execution_count": 4,
   "metadata": {},
   "outputs": [
    {
     "name": "stdout",
     "output_type": "stream",
     "text": [
      "total: 2300\n",
      "1: 倍する\n",
      "2: 消え去る\n",
      "3: 動ずる\n",
      "4: うる\n",
      "5: 書く\n"
     ]
    }
   ],
   "source": [
    "def get_verb_bases(sentinfos):\n",
    "    \"\"\"文章情報リストから、動詞の原型(base)のリストを返す\n",
    "    \"\"\"\n",
    "    verb_bases = set()\n",
    "    for sinfo in sentinfos:\n",
    "        for m in sinfo.morphs:\n",
    "            if m.is_verb(): # 動詞なら\n",
    "                verb_bases.add(m.base)\n",
    "\n",
    "    return list(verb_bases)\n",
    "\n",
    "\n",
    "# 動詞の原型の合計と、先頭の５つを表示する\n",
    "sentinfos = analyze_text(INPUT_FILENAME)\n",
    "verbs = get_verb_bases(sentinfos)\n",
    "print('total:', len(verbs))\n",
    "for idx, v in enumerate(verbs[:5], start=1):\n",
    "    print(f'{idx}:', v)"
   ]
  },
  {
   "cell_type": "markdown",
   "metadata": {},
   "source": [
    "## 33. 「AのB」\n",
    "\n",
    "2つの名詞が「の」で連結されている名詞句を抽出せよ．"
   ]
  },
  {
   "cell_type": "code",
   "execution_count": 5,
   "metadata": {},
   "outputs": [
    {
     "name": "stdout",
     "output_type": "stream",
     "text": [
      "total: 6044\n",
      "1: ただ **彼の掌** に載せられてスーと持ち上げられた時何だかフワフワした感じがあったばかりである。\n",
      "2:  **掌の上** で少し落ちついて書生の顔を見たのがいわゆる人間というものの見始であろう。\n",
      "3: 掌の上で少し落ちついて **書生の顔** を見たのがいわゆる人間というものの見始であろう。\n",
      "4: 第一毛をもって装飾されべき **はずの顔** がつるつるしてまるで薬缶だ。\n",
      "5: のみならず **顔の真中** があまりに突起している。\n",
      "6: そうしてその **穴の中** から時々ぷうぷうと煙を吹く。\n",
      "7: 　この **書生の掌** の裏でしばらくはよい心持に坐っておったが、しばらくすると非常な速力で運転し始めた。\n",
      "8: 　この書生の **掌の裏** でしばらくはよい心持に坐っておったが、しばらくすると非常な速力で運転し始めた。\n",
      "9: それまでは記憶しているがあとは **何の事** やらいくら考え出そうとしても分らない。\n",
      "10:  **肝心の母親** さえ姿を隠してしまった。\n"
     ]
    }
   ],
   "source": [
    "#\n",
    "# 回答例１：文章ごとに組み合わせを取り出す\n",
    "#\n",
    "def get_A_no_B(sentinfos):\n",
    "    \"\"\"２つの名詞が「の」で連結されている名詞句を抽出する\n",
    "    \n",
    "    文章情報リストから、２つの名詞が「の」で連結されている文章テキストと、\n",
    "    ２つの名詞で構成された計３つのテキストをタプルにし、そのリストを返す。\n",
    "    \"\"\"\n",
    "    res = []\n",
    "    for sinfo in sentinfos:\n",
    "        ms = sinfo.morphs\n",
    "        for i in range(len(ms)-2):\n",
    "            if ms[i].is_noun() and ms[i+1].surface == u'の' and ms[i+2].is_noun():\n",
    "                res.append((sinfo.sentence, ms[i].surface, ms[i+2].surface))\n",
    "\n",
    "    return res\n",
    "\n",
    "\n",
    "# ２つの名詞が「の」で連結されている名詞句の合計と、先頭の10例を表示\n",
    "sentinfos = analyze_text(INPUT_FILENAME)\n",
    "ab_pairs = get_A_no_B(sentinfos)\n",
    "print('total:', len(ab_pairs))\n",
    "for idx, (sent, a, b) in enumerate(ab_pairs[:10], start=1):\n",
    "    print(f'{idx}:', sent.replace(f'{a}の{b}', f' **{a}の{b}** '))"
   ]
  },
  {
   "cell_type": "code",
   "execution_count": 6,
   "metadata": {},
   "outputs": [
    {
     "name": "stdout",
     "output_type": "stream",
     "text": [
      "total: 4924\n",
      "1: 時代の鉄\n",
      "2: 小鼻の左右\n",
      "3: 車屋のかみさん\n",
      "4: 彼等の大胆\n",
      "5: 蒲鉾の残り\n",
      "6: 嬢のため\n",
      "7: 種のダムダム弾\n",
      "8: 枚の絵\n",
      "9: ハリソンの歴史\n",
      "10: 近来の名文\n"
     ]
    }
   ],
   "source": [
    "#\n",
    "# 回答例２：全体からユニークな組み合わせを取り出す\n",
    "#\n",
    "def get_A_no_B_unique(sentinfos):\n",
    "    \"\"\"２つの名詞が「の」で連結されている名詞句を抽出する\n",
    "    \n",
    "    文章情報リストから、２つの名詞が「の」で連結されている２つの名詞の\n",
    "    リストを返す。\n",
    "    \"\"\"\n",
    "    res = set()\n",
    "    for sinfo in sentinfos:\n",
    "        ms = sinfo.morphs\n",
    "        for i in range(len(ms)-2):\n",
    "            if ms[i].is_noun() and ms[i+1].surface == u'の' and ms[i+2].is_noun():\n",
    "                res.add((ms[i].surface, ms[i+2].surface))\n",
    "\n",
    "\n",
    "    return list(res)\n",
    "\n",
    "\n",
    "# ２つの名詞が「の」で連結されている名詞句の合計と、先頭の10例を表示\n",
    "sentinfos = analyze_text(INPUT_FILENAME)\n",
    "ab_pairs = get_A_no_B_unique(sentinfos)\n",
    "print('total:', len(ab_pairs))\n",
    "for idx, (a, b) in enumerate(ab_pairs[:10], start=1):\n",
    "    print(f'{idx}:', f'{a}の{b}')"
   ]
  },
  {
   "cell_type": "markdown",
   "metadata": {},
   "source": [
    "## 34. 名詞の連接\n",
    "\n",
    "名詞の連接（連続して出現する名詞）を最長一致で抽出せよ．"
   ]
  },
  {
   "cell_type": "code",
   "execution_count": 7,
   "metadata": {},
   "outputs": [
    {
     "name": "stdout",
     "output_type": "stream",
     "text": [
      "total: 4478\n",
      "1: しかもあとで聞くとそれは書生という **人間+中** で一番獰悪な種族であったそうだ。\n",
      "2: この **時+妙** なものだと思った感じが今でも残っている。\n",
      "3: 第 **一+毛** をもって装飾されべきはずの顔がつるつるしてまるで薬缶だ。\n",
      "4:  **その後+猫** にもだいぶ逢ったがこんな片輪には一度も出会わした事がない。\n",
      "5: そうしてその穴の中から時々 **ぷうぷうと+煙** を吹く。\n",
      "6: ここへ這入ったら、どうにかなると思って竹垣の崩れた穴から、とある **邸+内** にもぐり込んだ。\n",
      "7: この垣根の穴は今日に至るまで吾輩が隣家の **三+毛** を訪問する時の通路になっている。\n",
      "8: ここで吾輩は彼の **書生+以外** の人間を再び見るべき機会に遭遇したのである。\n",
      "9: 吾輩は投げ出されては這い上り、這い上っては投げ出され、何でも同じ事を **四+五+遍** 繰り返したのを記憶している。\n",
      "10:  **この間+おさん** の三馬を偸んでこの返報をしてやってから、やっと胸の痞が下りた。\n"
     ]
    }
   ],
   "source": [
    "def get_noun_sequence(sentinfos):\n",
    "    \"\"\"名詞の連接を抽出する\n",
    "    \n",
    "    文章情報リストから、文章と、連続する名詞のリストを返す。\n",
    "    \"\"\"\n",
    "    res = []\n",
    "    for sinfo in sentinfos:\n",
    "        nouns = []      # 名詞リスト\n",
    "        rsv_nouns = []  # 予約済み名詞リスト（これが出力される）\n",
    "        for m in sinfo.morphs:\n",
    "            if m.is_noun():\n",
    "                # 名詞がきたら名詞リストに登録\n",
    "                nouns.append(m.surface)\n",
    "            else:\n",
    "                # 名詞以外がきたら、名詞リストの内容を判定\n",
    "                if len(nouns) <= 1:\n",
    "                    # １名詞以下なら無視\n",
    "                    pass\n",
    "                elif not rsv_nouns:\n",
    "                    # 予約済み名詞リストが空ならばセット\n",
    "                    rsv_nouns = nouns\n",
    "                elif len(nouns) > len(rsv_nouns):\n",
    "                    # 予約済み名詞リストが名詞リストより少なければセット\n",
    "                    rsv_nouns = nouns\n",
    "\n",
    "                # 名詞リストをクリア\n",
    "                if nouns: nouns = []\n",
    "             \n",
    "       # 名詞リストが残っている場合\n",
    "        if len(nouns) > 1:\n",
    "            if not rsv_nouns or len(nouns) > len(rsv_nouns):\n",
    "                rsv_nouns = nouns\n",
    "                \n",
    "        # 予約済み名詞リストを登録\n",
    "        if rsv_nouns:\n",
    "            res.append((sinfo.sentence, rsv_nouns))\n",
    "\n",
    "    return res\n",
    "\n",
    "# 名詞の連接の合計と、対応する文章を10個表示する\n",
    "sentinfos = analyze_text(INPUT_FILENAME)\n",
    "noun_seqs = get_noun_sequence(sentinfos)\n",
    "print('total:', len(noun_seqs))\n",
    "for idx, (sent, nouns) in enumerate(noun_seqs[:10], start=1):\n",
    "    print(f'{idx}:', sent.replace(f\"{''.join(nouns)}\", f\" **{'+'.join(nouns)}** \"))"
   ]
  },
  {
   "cell_type": "markdown",
   "metadata": {},
   "source": [
    "## 35. 単語の出現頻度\n",
    "\n",
    "文章中に出現する単語とその出現頻度を求め，出現頻度の高い順に並べよ．"
   ]
  },
  {
   "cell_type": "code",
   "execution_count": 8,
   "metadata": {},
   "outputs": [
    {
     "name": "stdout",
     "output_type": "stream",
     "text": [
      "1: の 9194\n",
      "2: て 6848\n",
      "3: は 6420\n",
      "4: に 6243\n",
      "5: を 6071\n",
      "6: だ 5975\n",
      "7: と 5508\n",
      "8: が 5337\n",
      "9: た 4267\n",
      "10: する 3657\n"
     ]
    }
   ],
   "source": [
    "from collections import defaultdict\n",
    "\n",
    "\n",
    "def get_freq_word(sentinfos):\n",
    "    \"\"\"単語の形態素と出現頻度の辞書を返す\n",
    "    \"\"\"\n",
    "    # こうしておくと、存在しないキーに対してインクリメントができる\n",
    "    res = defaultdict(int)\n",
    "    \n",
    "    for sinfo in sentinfos:\n",
    "        for m in sinfo.morphs:\n",
    "            if m.is_symbol():\n",
    "                # 記号はスキップ\n",
    "                continue\n",
    "            else:\n",
    "                # キーを形態素にしてカウンタをインクリメント\n",
    "                res[m.base] += 1\n",
    "\n",
    "    # valueでソート\n",
    "    res = sorted(res.items(), key=lambda x:x[1], reverse=True)\n",
    "\n",
    "    return res\n",
    "\n",
    "# 単語の出現頻度の上位10語を表示する\n",
    "sentinfos = analyze_text(INPUT_FILENAME)\n",
    "agg = get_freq_word(sentinfos)\n",
    "for idx, (word, num) in enumerate(agg[:10], start=1):\n",
    "    print(f'{idx}:', word, num)"
   ]
  },
  {
   "cell_type": "markdown",
   "metadata": {},
   "source": [
    "## 36. 頻度上位10語\n",
    "\n",
    "出現頻度が高い10語とその出現頻度をグラフ（例えば棒グラフなど）で表示せよ．"
   ]
  },
  {
   "cell_type": "code",
   "execution_count": 9,
   "metadata": {},
   "outputs": [
    {
     "data": {
      "image/png": "[encoded data removed]",
      "text/plain": [
       "<Figure size 576x288 with 1 Axes>"
      ]
     },
     "metadata": {
      "needs_background": "light"
     },
     "output_type": "display_data"
    }
   ],
   "source": [
    "import matplotlib.pyplot as plt\n",
    "\n",
    "\n",
    "def plot_frequency_ranking_graph(ranking_len, agg):\n",
    "    \"\"\"単語の形態素と出現頻度の辞書から、指定されたサイズのランキンググラフを表示\n",
    "    \"\"\"\n",
    "    keys = [word for word, num in agg[:ranking_len]]\n",
    "    values = [num for word, num in agg[:ranking_len]]\n",
    "    plt.rcParams['font.family'] = 'AppleGothic'  # 日本語フォントを指定(macOS)\n",
    "    plt.figure(figsize=(8, 4))\n",
    "    plt.bar(keys, values)\n",
    "    plt.show()\n",
    "\n",
    "\n",
    "sentinfos = analyze_text(INPUT_FILENAME)\n",
    "agg = get_freq_word(sentinfos)\n",
    "\n",
    "# 上位10語を棒グラフで表示\n",
    "plot_frequency_ranking_graph(10, agg)"
   ]
  },
  {
   "cell_type": "markdown",
   "metadata": {},
   "source": [
    "## 37. 「猫」と共起頻度の高い上位10語\n",
    "\n",
    "「猫」とよく共起する（共起頻度が高い）10語とその出現頻度をグラフ（例えば棒グラフなど）で表示せよ．"
   ]
  },
  {
   "cell_type": "code",
   "execution_count": 10,
   "metadata": {},
   "outputs": [
    {
     "name": "stdout",
     "output_type": "stream",
     "text": [
      "total: 1602\n",
      "1: の 391\n",
      "2: は 272\n",
      "3: に 250\n",
      "4: を 232\n",
      "5: だ 231\n",
      "6: て 229\n",
      "7: と 202\n",
      "8: が 180\n",
      "9: する 144\n",
      "10: た 140\n",
      "\n"
     ]
    },
    {
     "data": {
      "image/png": "[encoded data removed]",
      "text/plain": [
       "<Figure size 576x288 with 1 Axes>"
      ]
     },
     "metadata": {
      "needs_background": "light"
     },
     "output_type": "display_data"
    }
   ],
   "source": [
    "def get_freq_cooccur(word, sentinfos):\n",
    "    \"\"\"指定した単語と共起する単語と、その出現頻度を返す\n",
    "    \n",
    "    wordで指定した単語と共起する単語を、文章情報リストから取り出し、\n",
    "    それらの出現頻度をカウントする。\n",
    "    単語の形態素と出現頻度でtuppleを作り、そのリストを出現頻度で\n",
    "    降順ソートして返す。\n",
    "    \"\"\"\n",
    "    res = defaultdict(int)\n",
    "    for sinfo in sentinfos:\n",
    "        if word not in sinfo.get_bases():\n",
    "            # wordが含まれていないならばスキップ\n",
    "            continue\n",
    "\n",
    "        for m in sinfo.morphs:\n",
    "            if m.surface != word and not m.is_symbol():\n",
    "                # wordそのものでなく、記号でないならインクリメント\n",
    "                res[m.base] += 1\n",
    "                \n",
    "    # valueでreverseソート\n",
    "    res = sorted(res.items(), key=lambda x:x[1], reverse=True)\n",
    "    \n",
    "    return res\n",
    "\n",
    "\n",
    "# 「猫」と共起する単語の合計と、共起頻度の高い上位10語を表示\n",
    "sentinfos = analyze_text(INPUT_FILENAME)\n",
    "agg = get_freq_cooccur(u'猫', sentinfos)\n",
    "print('total:', len(agg))\n",
    "for idx, (m, num) in enumerate(agg[:10], start=1):\n",
    "    print(f'{idx}:', m, num)\n",
    "print()\n",
    "\n",
    "# 上位10語を棒グラフで表示\n",
    "plot_frequency_ranking_graph(10, agg)"
   ]
  },
  {
   "cell_type": "code",
   "execution_count": 11,
   "metadata": {},
   "outputs": [
    {
     "name": "stdout",
     "output_type": "stream",
     "text": [
      "1: * 63\n",
      "2: 事 59\n",
      "3: 吾輩 58\n",
      "4: の 55\n",
      "5: 人間 40\n",
      "6: もの 36\n",
      "7: よう 34\n",
      "8: 主人 22\n",
      "9: 一 19\n",
      "10: 人 19\n",
      "\n"
     ]
    },
    {
     "data": {
      "image/png": "[encoded data removed]",
      "text/plain": [
       "<Figure size 576x288 with 1 Axes>"
      ]
     },
     "metadata": {
      "needs_background": "light"
     },
     "output_type": "display_data"
    }
   ],
   "source": [
    "#\n",
    "# 参考：「猫：と共振度の高い名詞\n",
    "#\n",
    "\n",
    "def get_freq_cooccur_noun(word, sentinfos):\n",
    "    \"\"\"指定した単語と共起する名詞と、その出現頻度を返す\n",
    "    \"\"\"\n",
    "    res = defaultdict(int)\n",
    "    for sinfo in sentinfos:\n",
    "        if word not in sinfo.get_bases():\n",
    "            # wordが含まれていないならばスキップ\n",
    "            continue\n",
    "\n",
    "        for m in sinfo.morphs:\n",
    "            if m.base == word or m.is_symbol() or not m.is_noun():\n",
    "                # wordそのものか、記号か、名詞でないならばスキップ\n",
    "                continue\n",
    "\n",
    "            res[m.base] += 1\n",
    "                \n",
    "    # valueでソート\n",
    "    res = sorted(res.items(), key=lambda x:x[1], reverse=True)\n",
    "    \n",
    "    return res\n",
    "\n",
    "# 「猫」と共起する名詞の合計と、共起頻度の高い上位10名詞を表示\n",
    "sentinfos = analyze_text(INPUT_FILENAME)\n",
    "agg = get_freq_cooccur_noun(u'猫', sentinfos)\n",
    "for idx, (base, num) in enumerate(agg[:10], start=1):\n",
    "    print(f'{idx}:', base, num)\n",
    "print()\n",
    "\n",
    "# 上位10語を棒グラフで表示\n",
    "plot_frequency_ranking_graph(10, agg)\n",
    "\n",
    "# 注：\n",
    "# 基本形\"*\"は分類できないものを指し、特定の基本形ではない"
   ]
  },
  {
   "cell_type": "code",
   "execution_count": 12,
   "metadata": {},
   "outputs": [
    {
     "name": "stdout",
     "output_type": "stream",
     "text": [
      "total: 56\n",
      "1: 　 *吾輩* は *猫* である。\n",
      "2: 下女は *吾輩* をぶら下げて主人の方へ向けてこの宿なしの小 *猫* がいくら出しても出しても御台所へ上って来て困りますという。\n",
      "3:  *吾輩* は *猫* ながら時々考える事がある。\n",
      "4:  *吾輩* は *猫* として決して上乗の出来ではない。\n",
      "5:  *吾輩* は波斯産の *猫* のごとく黄を含める淡灰色に漆のごとき斑入りの皮膚を有している。\n",
      "6: しかし挨拶をしないと険呑だと思ったから「 *吾輩* は *猫* である。\n",
      "7: 　 *吾輩* は新年来多少有名になったので、 *猫* ながらちょっと鼻が高く感ぜらるるのはありがたい。\n",
      "8: 少し眼識のあるものなら、 *猫* の中でも他の *猫* じゃない *吾輩* である事が判然とわかるように立派に描いてある。\n",
      "9:  *吾輩* であると云う事はよし分らないにしても、せめて *猫* であるという事だけは分らしてやりたい。\n",
      "10: しかし人間というものは到底 *吾輩*  *猫* 属の言語を解し得るくらいに天の恵に浴しておらん動物であるから、残念ながらそのままにしておいた。\n"
     ]
    }
   ],
   "source": [
    "#\n",
    "# 番外：「猫」＋「吾輩」の文を10例表示\n",
    "#\n",
    "\n",
    "def get_sents(sentinfos, words):\n",
    "    \"\"\"文章情報から、指定した単語を含む文のリストを返す\n",
    "    \"\"\"\n",
    "    sents = []\n",
    "    word_set = set(words)\n",
    "    for sinfo in sentinfos:\n",
    "        if word_set <= set(sinfo.get_bases()):\n",
    "            sents.append(sinfo.sentence)\n",
    "\n",
    "    return sents\n",
    "\n",
    "\n",
    "# 「猫」と「吾輩」が含まれる文章を先頭から10だけ表示\n",
    "sentinfos = analyze_text(INPUT_FILENAME)\n",
    "sents = get_sents(sentinfos, (u'猫', u'吾輩'))\n",
    "print('total:', len(sents))\n",
    "for idx, sent in enumerate(sents[:10], start=1):\n",
    "    print(f'{idx}:', sent.replace(u'猫', u' *猫* ').replace(u'吾輩', u' *吾輩* '))"
   ]
  },
  {
   "cell_type": "markdown",
   "metadata": {},
   "source": [
    "## 38. ヒストグラム\n",
    "\n",
    "単語の出現頻度のヒストグラムを描け．ただし，横軸は出現頻度を表し，1から単語の出現頻度の最大値までの線形目盛とする．縦軸はx軸で示される出現頻度となった単語の異なり数（種類数）である．"
   ]
  },
  {
   "cell_type": "code",
   "execution_count": 14,
   "metadata": {},
   "outputs": [
    {
     "data": {
      "image/png": "[encoded data removed]",
      "text/plain": [
       "<Figure size 720x288 with 1 Axes>"
      ]
     },
     "metadata": {
      "needs_background": "light"
     },
     "output_type": "display_data"
    },
    {
     "data": {
      "image/png": "[encoded data removed]",
      "text/plain": [
       "<Figure size 720x288 with 1 Axes>"
      ]
     },
     "metadata": {
      "needs_background": "light"
     },
     "output_type": "display_data"
    }
   ],
   "source": [
    "def plot_histogram(agg, title, ylog=False):\n",
    "    \"\"\"ヒストグラムを表示する\n",
    "    \"\"\"\n",
    "    values = [num for word, num in agg]\n",
    "    plt.rcParams['font.family'] = 'AppleGothic'  # 日本語フォントを指定(macOS)\n",
    "    plt.figure(figsize=(10, 4))\n",
    "    plt.hist(values, bins=100)\n",
    "    plt.title(title)\n",
    "    if ylog:\n",
    "        plt.yscale('log')\n",
    "    plt.xlabel(u'出現頻度')\n",
    "    plt.ylabel(u'種類数')\n",
    "    plt.show()\n",
    "\n",
    "\n",
    "# 単語の出現頻度のヒストグラムを表示する\n",
    "sentinfos = analyze_text(INPUT_FILENAME)\n",
    "agg = get_freq_word(sentinfos)\n",
    "plot_histogram(agg, u'単語の出現頻度')\n",
    "\n",
    "# Y軸を対数にして表示\n",
    "plot_histogram(agg, u'単語の出現頻度', ylog=True)"
   ]
  },
  {
   "cell_type": "markdown",
   "metadata": {},
   "source": [
    "## 39. Zipfの法則\n",
    "\n",
    "単語の出現頻度順位を横軸，その出現頻度を縦軸として，両対数グラフをプロットせよ．"
   ]
  },
  {
   "cell_type": "code",
   "execution_count": 15,
   "metadata": {},
   "outputs": [
    {
     "data": {
      "image/png": "[encoded data removed]",
      "text/plain": [
       "<Figure size 576x288 with 1 Axes>"
      ]
     },
     "metadata": {
      "needs_background": "light"
     },
     "output_type": "display_data"
    }
   ],
   "source": [
    "def plot_zipf(agg, title):\n",
    "    ranks = [r+1 for r in range(len(agg))]\n",
    "    values = [num for word, num in agg]\n",
    "    plt.rcParams['font.family'] = 'AppleGothic'  # 日本語フォントを指定(macOS)\n",
    "    plt.figure(figsize=(8, 4))\n",
    "    plt.scatter(ranks, values)\n",
    "    plt.title(title)\n",
    "    plt.xlabel(u'順位')\n",
    "    plt.ylabel(u'出現頻度')\n",
    "    plt.xscale('log')\n",
    "    plt.yscale('log')\n",
    "    plt.show()\n",
    "\n",
    "sentinfos = analyze_text(INPUT_FILENAME)\n",
    "agg = get_freq_word(sentinfos)\n",
    "plot_zipf(agg, '出現頻度と順位')"
   ]
  },
  {
   "cell_type": "code",
   "execution_count": null,
   "metadata": {},
   "outputs": [],
   "source": []
  }
 ],
 "metadata": {
  "kernelspec": {
   "display_name": "Python 3",
   "language": "python",
   "name": "python3"
  },
  "language_info": {
   "codemirror_mode": {
    "name": "ipython",
    "version": 3
   },
   "file_extension": ".py",
   "mimetype": "text/x-python",
   "name": "python",
   "nbconvert_exporter": "python",
   "pygments_lexer": "ipython3",
   "version": "3.8.5"
  }
 },
 "nbformat": 4,
 "nbformat_minor": 4
}
